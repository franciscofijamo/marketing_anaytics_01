{
  "nbformat": 4,
  "nbformat_minor": 0,
  "metadata": {
    "colab": {
      "name": "marketing_analytics_01.ipynb",
      "provenance": [],
      "collapsed_sections": [
        "DV7FXtptN5Wt",
        "uKo8GWDzN_-r",
        "sIVhT0k1PSB1",
        "RS9QIf8UPrE6"
      ],
      "authorship_tag": "ABX9TyNu8QwaQcUocgFQt+0pVzjI",
      "include_colab_link": true
    },
    "kernelspec": {
      "name": "python3",
      "display_name": "Python 3"
    }
  },
  "cells": [
    {
      "cell_type": "markdown",
      "metadata": {
        "id": "view-in-github",
        "colab_type": "text"
      },
      "source": [
        "<a href=\"https://colab.research.google.com/github/franciscofijamo/marketing_anaytics_01/blob/master/marketing_analytics_01.ipynb\" target=\"_parent\"><img src=\"https://colab.research.google.com/assets/colab-badge.svg\" alt=\"Open In Colab\"/></a>"
      ]
    },
    {
      "cell_type": "markdown",
      "metadata": {
        "id": "KEtRBp_KtOB-",
        "colab_type": "text"
      },
      "source": [
        "# Busniness Case \n",
        "O departamento de marketing da empresa Valuu deseja aplicar concenitos de marketing anaçytics, para identificar o resultado das camapanhas de marketing ao longo dos últimos anos. A empresa possui todos registos de vendas, e deseja saber quais os cleintes mais rentaveis, os pricipais segmentos de clientes e realizar previsões de facturamento de modo a definir as estratéfgias de marketing. O ponto crítico para empresa é conhecer o LTV (Life time Value), de modo a direccionar seus esforços de marketing e optimizar a aplicação de recursos corporativos. E para isso foi disponibilizado um banco de dados com as seguintes informações no arquivo compras : **codigo_do_cliente, valor_da_compra e data_da_compra.**\n",
        "\n",
        "## Como entregar as informações solicitadas pelo departamento de marketing da empresa?"
      ]
    },
    {
      "cell_type": "markdown",
      "metadata": {
        "id": "DV7FXtptN5Wt",
        "colab_type": "text"
      },
      "source": [
        "# 1.0 Imports\n"
      ]
    },
    {
      "cell_type": "code",
      "metadata": {
        "id": "hG-KFoOIN9s8",
        "colab_type": "code",
        "colab": {}
      },
      "source": [
        "import pandas                   as pd\n",
        "import numpy                    as np\n",
        "import seaborn                  as sns\n",
        "import matplotlib.pyplot        as plt\n",
        "\n",
        "from IPython.core.display       import HTML\n",
        "from IPython.display            import Image\n",
        "import datetime\n",
        "\n"
      ],
      "execution_count": 43,
      "outputs": []
    },
    {
      "cell_type": "markdown",
      "metadata": {
        "id": "uKo8GWDzN_-r",
        "colab_type": "text"
      },
      "source": [
        "# 1.1 Help Functions"
      ]
    },
    {
      "cell_type": "code",
      "metadata": {
        "id": "rain6YN6vafc",
        "colab_type": "code",
        "colab": {
          "base_uri": "https://localhost:8080/",
          "height": 34
        },
        "outputId": "8f7edfb4-cc28-44de-e9b3-bace3765c6a6"
      },
      "source": [
        "\n",
        "# adjust jupyter notebook viz\n",
        "def jupyter_settings():\n",
        "    %matplotlib inline\n",
        "    %pylab inline\n",
        "    plt.style.use( 'bmh' )\n",
        "    plt.rcParams['figure.figsize'] = [27, 12]\n",
        "    plt.rcParams['font.size'] = 24\n",
        "    display( HTML( '<style>.container { width:100% !important; }</style>') )\n",
        "    pd.options.display.max_columns = None\n",
        "    pd.options.display.max_rows = None\n",
        "    pd.set_option( 'display.expand_frame_repr', False )\n",
        "    sns.set()\n",
        "    \n",
        "jupyter_settings()\n"
      ],
      "execution_count": 2,
      "outputs": [
        {
          "output_type": "stream",
          "text": [
            "Populating the interactive namespace from numpy and matplotlib\n"
          ],
          "name": "stdout"
        },
        {
          "output_type": "display_data",
          "data": {
            "text/html": [
              "<style>.container { width:100% !important; }</style>"
            ],
            "text/plain": [
              "<IPython.core.display.HTML object>"
            ]
          },
          "metadata": {
            "tags": []
          }
        }
      ]
    },
    {
      "cell_type": "markdown",
      "metadata": {
        "id": "G-fZPeTEPFLt",
        "colab_type": "text"
      },
      "source": [
        "# 2.0 Import Data"
      ]
    },
    {
      "cell_type": "code",
      "metadata": {
        "id": "RTkwd4cqPNQH",
        "colab_type": "code",
        "colab": {}
      },
      "source": [
        "df = pd.read_csv('compras.txt', header= None, sep='\\t', parse_dates=[2])"
      ],
      "execution_count": 58,
      "outputs": []
    },
    {
      "cell_type": "markdown",
      "metadata": {
        "id": "2pz-D5SFPf1C",
        "colab_type": "text"
      },
      "source": [
        "# 2.1 Data pre-processing"
      ]
    },
    {
      "cell_type": "markdown",
      "metadata": {
        "id": "sIVhT0k1PSB1",
        "colab_type": "text"
      },
      "source": [
        "### 2.1.1 Working wit columns"
      ]
    },
    {
      "cell_type": "code",
      "metadata": {
        "id": "UVfrx_VA77vD",
        "colab_type": "code",
        "colab": {}
      },
      "source": [
        "# rename columns\n",
        "cols = ['id_client','value','date']\n",
        "df.columns = cols"
      ],
      "execution_count": null,
      "outputs": []
    },
    {
      "cell_type": "code",
      "metadata": {
        "id": "6IxmPzpLPduy",
        "colab_type": "code",
        "colab": {}
      },
      "source": [
        "# extract year to column year\n",
        "df['year'] = pd.DatetimeIndex(df['date']).year"
      ],
      "execution_count": 76,
      "outputs": []
    },
    {
      "cell_type": "code",
      "metadata": {
        "id": "cq1OX4T7CmJc",
        "colab_type": "code",
        "colab": {}
      },
      "source": [
        "# visualizar os 20 primeiros ordenando por data\n",
        "df.head(20).sort_values('date')"
      ],
      "execution_count": null,
      "outputs": []
    },
    {
      "cell_type": "markdown",
      "metadata": {
        "id": "RS9QIf8UPrE6",
        "colab_type": "text"
      },
      "source": [
        "### 2.1.2 Describe the data"
      ]
    },
    {
      "cell_type": "code",
      "metadata": {
        "id": "jIe0qRn87x12",
        "colab_type": "code",
        "colab": {}
      },
      "source": [
        "# describe data (count, mean, std, min, max)\n",
        "df.describe()"
      ],
      "execution_count": null,
      "outputs": []
    },
    {
      "cell_type": "markdown",
      "metadata": {
        "id": "AAzvPSXqU6Jx",
        "colab_type": "text"
      },
      "source": [
        "### 2.1.3 Total de Vendas por ano & Vendas medias por ano"
      ]
    },
    {
      "cell_type": "code",
      "metadata": {
        "id": "vnojsI3aMefn",
        "colab_type": "code",
        "colab": {
          "base_uri": "https://localhost:8080/",
          "height": 736
        },
        "outputId": "b2f97df1-f020-4f2b-9da2-528a739e24c1"
      },
      "source": [
        "# valor de vendas por ano\n",
        "sales_for_year = df.groupby('year')\\\n",
        "    .agg({'value': 'count'})\\\n",
        "    .reset_index()\n",
        "\n",
        "plt.subplot(2,2,1)\n",
        "\n",
        "sns.barplot(x=\"year\", y=\"value\", data=sales_for_year).set(title = 'Numero de vendas por ano')\n",
        "\n",
        "\n",
        "\n",
        "# valor medio de vendas por ano\n",
        "sales_median_year = df.groupby('year')\\\n",
        "    .agg({'value': 'mean'})\\\n",
        "    .reset_index()\n",
        "\n",
        "plt.subplot(2,2,2)\n",
        "sns.barplot(x=\"year\", y=\"value\", data=sales_median_year).set(title = 'valor medio de vendas por ano');\n",
        "\n",
        "# valor medio de vendas por ano\n",
        "sales_median_year = df.groupby('year')\\\n",
        "    .agg({'value': 'sum'})\\\n",
        "    .reset_index()\n",
        "\n",
        "plt.subplot(2,2,3)\n",
        "sns.barplot(x=\"year\", y=\"value\", data=sales_median_year).set(title = 'soma de vendas por ano');\n",
        "\n",
        "\n"
      ],
      "execution_count": 158,
      "outputs": [
        {
          "output_type": "display_data",
          "data": {
            "image/png": "[encoded data removed]",
            "text/plain": [
              "<Figure size 1944x864 with 3 Axes>"
            ]
          },
          "metadata": {
            "tags": []
          }
        }
      ]
    },
    {
      "cell_type": "code",
      "metadata": {
        "id": "WsHcOSP5cigI",
        "colab_type": "code",
        "colab": {
          "base_uri": "https://localhost:8080/",
          "height": 417
        },
        "outputId": "5a7b5e67-237d-422f-dfcf-dc2b42bbf3b4"
      },
      "source": [
        "# Agregar tudo em uma tabela\n",
        "df.groupby('year')\\\n",
        "    .agg({'value': ['count', 'mean', 'sum']})\\\n",
        "    .reset_index()"
      ],
      "execution_count": 157,
      "outputs": [
        {
          "output_type": "execute_result",
          "data": {
            "text/html": [
              "<div>\n",
              "<style scoped>\n",
              "    .dataframe tbody tr th:only-of-type {\n",
              "        vertical-align: middle;\n",
              "    }\n",
              "\n",
              "    .dataframe tbody tr th {\n",
              "        vertical-align: top;\n",
              "    }\n",
              "\n",
              "    .dataframe thead tr th {\n",
              "        text-align: left;\n",
              "    }\n",
              "</style>\n",
              "<table border=\"1\" class=\"dataframe\">\n",
              "  <thead>\n",
              "    <tr>\n",
              "      <th></th>\n",
              "      <th>year</th>\n",
              "      <th colspan=\"3\" halign=\"left\">value</th>\n",
              "    </tr>\n",
              "    <tr>\n",
              "      <th></th>\n",
              "      <th></th>\n",
              "      <th>count</th>\n",
              "      <th>mean</th>\n",
              "      <th>sum</th>\n",
              "    </tr>\n",
              "  </thead>\n",
              "  <tbody>\n",
              "    <tr>\n",
              "      <th>0</th>\n",
              "      <td>2005</td>\n",
              "      <td>1470</td>\n",
              "      <td>55.826122</td>\n",
              "      <td>82064.40</td>\n",
              "    </tr>\n",
              "    <tr>\n",
              "      <th>1</th>\n",
              "      <td>2006</td>\n",
              "      <td>2182</td>\n",
              "      <td>52.250454</td>\n",
              "      <td>114010.49</td>\n",
              "    </tr>\n",
              "    <tr>\n",
              "      <th>2</th>\n",
              "      <td>2007</td>\n",
              "      <td>4674</td>\n",
              "      <td>49.264014</td>\n",
              "      <td>230260.00</td>\n",
              "    </tr>\n",
              "    <tr>\n",
              "      <th>3</th>\n",
              "      <td>2008</td>\n",
              "      <td>4331</td>\n",
              "      <td>53.071780</td>\n",
              "      <td>229853.88</td>\n",
              "    </tr>\n",
              "    <tr>\n",
              "      <th>4</th>\n",
              "      <td>2009</td>\n",
              "      <td>5054</td>\n",
              "      <td>50.745253</td>\n",
              "      <td>256466.51</td>\n",
              "    </tr>\n",
              "    <tr>\n",
              "      <th>5</th>\n",
              "      <td>2010</td>\n",
              "      <td>4939</td>\n",
              "      <td>58.740012</td>\n",
              "      <td>290116.92</td>\n",
              "    </tr>\n",
              "    <tr>\n",
              "      <th>6</th>\n",
              "      <td>2011</td>\n",
              "      <td>4785</td>\n",
              "      <td>63.519300</td>\n",
              "      <td>303939.85</td>\n",
              "    </tr>\n",
              "    <tr>\n",
              "      <th>7</th>\n",
              "      <td>2012</td>\n",
              "      <td>5960</td>\n",
              "      <td>62.913312</td>\n",
              "      <td>374963.34</td>\n",
              "    </tr>\n",
              "    <tr>\n",
              "      <th>8</th>\n",
              "      <td>2013</td>\n",
              "      <td>5912</td>\n",
              "      <td>67.931357</td>\n",
              "      <td>401610.18</td>\n",
              "    </tr>\n",
              "    <tr>\n",
              "      <th>9</th>\n",
              "      <td>2014</td>\n",
              "      <td>5739</td>\n",
              "      <td>75.390347</td>\n",
              "      <td>432665.20</td>\n",
              "    </tr>\n",
              "    <tr>\n",
              "      <th>10</th>\n",
              "      <td>2015</td>\n",
              "      <td>6197</td>\n",
              "      <td>77.197697</td>\n",
              "      <td>478394.13</td>\n",
              "    </tr>\n",
              "  </tbody>\n",
              "</table>\n",
              "</div>"
            ],
            "text/plain": [
              "    year value                      \n",
              "         count       mean        sum\n",
              "0   2005  1470  55.826122   82064.40\n",
              "1   2006  2182  52.250454  114010.49\n",
              "2   2007  4674  49.264014  230260.00\n",
              "3   2008  4331  53.071780  229853.88\n",
              "4   2009  5054  50.745253  256466.51\n",
              "5   2010  4939  58.740012  290116.92\n",
              "6   2011  4785  63.519300  303939.85\n",
              "7   2012  5960  62.913312  374963.34\n",
              "8   2013  5912  67.931357  401610.18\n",
              "9   2014  5739  75.390347  432665.20\n",
              "10  2015  6197  77.197697  478394.13"
            ]
          },
          "metadata": {
            "tags": []
          },
          "execution_count": 157
        }
      ]
    }
  ]
}